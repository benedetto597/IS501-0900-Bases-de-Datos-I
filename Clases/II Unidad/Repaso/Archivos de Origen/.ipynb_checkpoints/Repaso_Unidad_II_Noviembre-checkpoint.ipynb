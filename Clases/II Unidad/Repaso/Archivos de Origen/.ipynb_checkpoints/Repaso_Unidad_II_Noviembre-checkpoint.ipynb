{
 "cells": [
  {
   "cell_type": "markdown",
   "metadata": {},
   "source": [
    "012\n",
    "===\n",
    "## IS501-0900 Bases de Datos I \n",
    "\n",
    "### Ing. José Manuel Inestroza\n",
    "\n",
    "### Alumno \n",
    "* **Edgar Josué Benedetto Godoy**\n",
    "* **20171033802**\n",
    "\n",
    "### III PAC 2020\n",
    "### 11 - Diciembre - 2020"
   ]
  },
  {
   "cell_type": "markdown",
   "metadata": {},
   "source": [
    "MySQL\n",
    "===\n",
    "### Nombre del Archivo\n",
    "* **Data.sql**\n",
    "\n",
    "### Descripción\n",
    "    * Usa la base de datos \"Example\"\n",
    "    * Se elimina lo que contenga la tabla Measure antes de introducirle datos\n",
    "    * Se especifica el motor de busqueda InnoDB\n",
    "    \n",
    "### Contenido del Archivo\n",
    "\n",
    "    CREATE DATABASE IF NOT EXISTS `Example`;\n",
    "\n",
    "    USE `Example`;\n",
    "\n",
    "    CREATE TABLE IF NOT EXISTS `Measure`(\n",
    "        `id` int(11) NOT NULL AUTO_INCREMENT COMMENT 'Autoincremental.',\n",
    "        `device` int(11) NOT NULL COMMENT 'Device id.',\n",
    "        `temperature` decimal(10,4) DEFAULT NULL COMMENT 'Temperatura en celcius.',\n",
    "        `date` timestamp NOT NULL DEFAULT CURRENT_TIMESTAMP COMMENT 'Fecha de la temperatura',\n",
    "        PRIMARY KEY (`id`)\n",
    "    ) ENGINE = InnoDB AUTO_INCREMENT=1 DEFAULT CHARSET=utf8 COLLATE=utf8_unicode_ci COMMENT='Tabla de historial de medidas.';\n",
    "\n",
    "    TRUNCATE TABLE `Measure`;\n",
    "\n",
    "    INSERT INTO Measure(device, tempreture, date) VALUES \n",
    "        (3, 36.95, '2020-11-24 12:19:48'),\n",
    "        (3, 36.95, '2020-11-24 12:19:48'),\n",
    "        (3, 36.95, '2020-11-24 12:19:48')... \n",
    "        (3, 36.95, '2020-11-24 12:19:48');"
   ]
  },
  {
   "cell_type": "markdown",
   "metadata": {},
   "source": [
    "Python\n",
    "===\n",
    "### Nombre del Archivo \n",
    "1. **Conection.py**\n",
    "\n",
    "### Descripción\n",
    "* Conexión de MySQL desde Python usando un cursor\n",
    "\n",
    "### Definiciones\n",
    "* Cursor --> sirve como enlace para ejecutar transacciones\n",
    "\n",
    "### MySQL Conector (mysql.connector)\n",
    "*  En el interprete de python para poder ver la ayuda de connector se deben usar los siguientes comandos:\n",
    "    - import mysql.connector\n",
    "    - help(mysql.connector)\n",
    "    - help(mysql.connector.cursor)\n",
    "    \n",
    "### Instalación del mysql.connector\n",
    "* sudo -H pip3 install mysql-connector-python\n"
   ]
  },
  {
   "cell_type": "code",
   "execution_count": 1,
   "metadata": {},
   "outputs": [],
   "source": [
    "import mysql.connector "
   ]
  },
  {
   "cell_type": "code",
   "execution_count": 2,
   "metadata": {},
   "outputs": [],
   "source": [
    "#192.168.0.6 es la ip del celular Note 8 \n",
    "mydb = mysql.connector.connect(\n",
    "    host=\"192.168.0.6\",\n",
    "    port=\"3306\",\n",
    "    user=\"admin\",\n",
    "    password=\"admin\",\n",
    "    database=\"Example\"\n",
    ")"
   ]
  },
  {
   "cell_type": "code",
   "execution_count": 3,
   "metadata": {},
   "outputs": [
    {
     "name": "stdout",
     "output_type": "stream",
     "text": [
      "Versión texto del objeto conexión a MySQL: <mysql.connector.connection.MySQLConnection object at 0x0000027AD824E130>\n"
     ]
    }
   ],
   "source": [
    "#Imprime el objeto de conexión\n",
    "print(\"Versión texto del objeto conexión a MySQL: %s\" %(mydb))"
   ]
  },
  {
   "cell_type": "markdown",
   "metadata": {},
   "source": [
    "## Ejecución de transacciones\n",
    "\n",
    "* Obtener 3 registros"
   ]
  },
  {
   "cell_type": "code",
   "execution_count": 4,
   "metadata": {},
   "outputs": [
    {
     "name": "stdout",
     "output_type": "stream",
     "text": [
      "Registro: 1, 2, 35.5500, 2020-12-11 09:33:44\n",
      "Registro: 2, 2, 35.5500, 2020-12-11 09:33:44\n",
      "Registro: 3, 2, 35.5500, 2020-12-11 09:33:44\n"
     ]
    }
   ],
   "source": [
    "\n",
    "#Se crea el cursor de python como enlace para crear transacciones \n",
    "link = mydb.cursor()\n",
    "\n",
    "#Se crea una transacción de ejecución\n",
    "link.execute(\"SELECT * FROM Measure LIMIT 3;\")\n",
    "result = link.fetchall()\n",
    "\n",
    "#Se recorren e imprimen los resultados\n",
    "for id, device, temperature, date in result:\n",
    "    print(\"Registro: %s, %s, %s, %s\" % (id, device, temperature, date))"
   ]
  },
  {
   "cell_type": "markdown",
   "metadata": {},
   "source": [
    " Python\n",
    " ===\n",
    "### Nombre de los Archivos \n",
    "1. **main.py**\n",
    "2. **MySQLEngine.py**\n",
    "3. **ConectionConfig.py**\n",
    "4. **Conection.py**\n",
    "\n",
    "### Descripción\n",
    "* Uso de SELECT en Python mediante POO y BD\n",
    "* SELECT, INSERT, DELETE, Procedimiento almacenado etc"
   ]
  },
  {
   "cell_type": "code",
   "execution_count": 1,
   "metadata": {},
   "outputs": [],
   "source": [
    "import mysql.connector"
   ]
  },
  {
   "cell_type": "code",
   "execution_count": 2,
   "metadata": {},
   "outputs": [],
   "source": [
    "\n",
    "class ConectionConfig:\n",
    "\n",
    "    def __init__(self, server, port, user, password, database):\n",
    "        self.server, self.port, self.user, self.password, self.database = server, port, user, password, database"
   ]
  },
  {
   "cell_type": "code",
   "execution_count": 3,
   "metadata": {},
   "outputs": [],
   "source": [
    "class MySQLEngine:\n",
    "    def __init__(self, config):\n",
    "        self.server = config.server\n",
    "        self.port = config.port\n",
    "        self.user = config.user\n",
    "        self.password = config.password\n",
    "        self.database = config.database \n",
    "\n",
    "        self.start()\n",
    "\n",
    "    def start(self):\n",
    "        #El metodo connect necesita el valor del servidor y demás por lo tanto se debe decir el nombre del campo\n",
    "        self.con = mysql.connector.connect(\n",
    "            host = self.server,\n",
    "            port = self.port,\n",
    "            user = self.user,\n",
    "            password = self.password,    \n",
    "            database = self.database \n",
    "        )\n",
    "        \n",
    "        #Versión texto de la conexión \"con\"\n",
    "        print(\"Versión de texto del objeto de conexión a MySQL: %s \" % (self.con))\n",
    "\n",
    "        #Enlace (conexión con la base de datos)\n",
    "        #Se puede hacer uso de link en cualquier parte de la clase\n",
    "        self.link = self.con.cursor()\n",
    "\n",
    "    #FetchAll --> obtiene todos los registros en una sola variable \n",
    "    def select(self, query=\"\"):\n",
    "        self.link.execute(query)\n",
    "        return self.link.fetchall()"
   ]
  },
  {
   "cell_type": "code",
   "execution_count": 4,
   "metadata": {},
   "outputs": [
    {
     "name": "stdout",
     "output_type": "stream",
     "text": [
      "Versión de texto del objeto de conexión a MySQL: <mysql.connector.connection.MySQLConnection object at 0x000001D09C451730> \n"
     ]
    }
   ],
   "source": [
    "#Configuración de la conexión con la base de datos del celular\n",
    "config = ConectionConfig(\"192.168.0.6\", \"3306\", \"admin\", \"admin\", \"Example\")\n",
    "engine = MySQLEngine(config)"
   ]
  },
  {
   "cell_type": "markdown",
   "metadata": {},
   "source": [
    "## Ejecución de transacciones\n",
    "\n",
    "* Obtener los primeros 3 registros\n",
    "* Obtener los ultimos 3 registros"
   ]
  },
  {
   "cell_type": "code",
   "execution_count": 5,
   "metadata": {
    "scrolled": true
   },
   "outputs": [
    {
     "name": "stdout",
     "output_type": "stream",
     "text": [
      "Registro: 1,2,35.5500,2020-12-11 09:33:44\n",
      "Registro: 2,2,35.5500,2020-12-11 09:33:44\n",
      "Registro: 3,2,35.5500,2020-12-11 09:33:44\n",
      "Registro: 4,2,35.5500,2020-12-11 09:33:44\n",
      "Registro: 3,2,35.5500,2020-12-11 09:33:44\n",
      "Registro: 2,2,35.5500,2020-12-11 09:33:44\n"
     ]
    }
   ],
   "source": [
    "#Primeros 10 registros\n",
    "first10 = engine.select(\"SELECT * FROM Measure ORDER BY id ASC LIMIT 3\")\n",
    "\n",
    "for id,device,temperature,date in first10:\n",
    "    print(\"Registro: %s,%s,%s,%s\" % (id,device,temperature,date))  \n",
    "\n",
    "#Ultimos 10 registros\n",
    "last10 = engine.select(\"SELECT * FROM Measure ORDER BY id DESC LIMIT 3\")\n",
    "\n",
    "for id,device,temperature,date in last10:\n",
    "    print(\"Registro: %s,%s,%s,%s\" % (id,device,temperature,date))  "
   ]
  },
  {
   "cell_type": "markdown",
   "metadata": {},
   "source": []
  }
 ],
 "metadata": {
  "kernelspec": {
   "display_name": "Python 3",
   "language": "python",
   "name": "python3"
  },
  "language_info": {
   "codemirror_mode": {
    "name": "ipython",
    "version": 3
   },
   "file_extension": ".py",
   "mimetype": "text/x-python",
   "name": "python",
   "nbconvert_exporter": "python",
   "pygments_lexer": "ipython3",
   "version": "3.8.6"
  }
 },
 "nbformat": 4,
 "nbformat_minor": 4
}
