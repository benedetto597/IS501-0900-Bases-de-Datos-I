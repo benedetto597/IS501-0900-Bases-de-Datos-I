{
 "cells": [
  {
   "cell_type": "markdown",
   "metadata": {},
   "source": [
    "014\n",
    "===\n",
    "## IS501-0900 Bases de Datos I \n",
    "\n",
    "### Ing. José Manuel Inestroza\n",
    "\n",
    "### Alumno \n",
    "* Edgar Josué Benedetto Godoy\n",
    "* 20171033802\n",
    "\n",
    "### III PAC 2020\n",
    "### 11 - Diciembre - 2020\n",
    "    "
   ]
  },
  {
   "cell_type": "code",
   "execution_count": 1,
   "metadata": {},
   "outputs": [],
   "source": [
    "import random, re\n",
    "#timedelta permite generar diferenciales\n",
    "from datetime import datetime, timedelta"
   ]
  },
  {
   "cell_type": "code",
   "execution_count": 8,
   "metadata": {},
   "outputs": [],
   "source": [
    "class DataGenerator:\n",
    "    def __init__(self, fileName):\n",
    "        self.fileName = fileName\n",
    "    \n",
    "    #Registro por minuto\n",
    "    def generate(self, minutes):\n",
    "        f = open(self.fileName, \"w\")\n",
    "        f.write(\"CREATE... USE... DROP...\")\n",
    "        f.close()\n",
    "\n",
    "        #\"a\" es de agregado (append)\n",
    "        f = open(self.fileName, \"a\")\n",
    "        for i in range(minutes):\n",
    "            f.write(\"\"\" \n",
    "INSERT INTO Measure(\n",
    "    deviceId, temperature, date\n",
    ") VALUES (\n",
    "    %d, \n",
    "    %.2f, \n",
    "    '%s'\n",
    "); \n",
    "            \"\"\" % (\n",
    "            int(random.random()*(4-1)+1), \n",
    "            (random.random()*(39-36)+36), \n",
    "            datetime.now() + timedelta(seconds=60*i)\n",
    "        ))\n",
    "        f.close()"
   ]
  },
  {
   "cell_type": "code",
   "execution_count": 11,
   "metadata": {},
   "outputs": [],
   "source": [
    "  (DataGenerator(fileName=\"data.sql\")).generate(2*365*24*60)"
   ]
  }
 ],
 "metadata": {
  "kernelspec": {
   "display_name": "Python 3",
   "language": "python",
   "name": "python3"
  },
  "language_info": {
   "codemirror_mode": {
    "name": "ipython",
    "version": 3
   },
   "file_extension": ".py",
   "mimetype": "text/x-python",
   "name": "python",
   "nbconvert_exporter": "python",
   "pygments_lexer": "ipython3",
   "version": "3.8.6"
  }
 },
 "nbformat": 4,
 "nbformat_minor": 4
}
